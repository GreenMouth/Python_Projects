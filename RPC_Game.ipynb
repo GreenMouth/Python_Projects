{
 "cells": [
  {
   "cell_type": "code",
   "execution_count": 1,
   "metadata": {},
   "outputs": [],
   "source": [
    "# Author: Prashant Shinde \n",
    "# Goal: Rock, Paper, Scissors game "
   ]
  },
  {
   "cell_type": "raw",
   "metadata": {},
   "source": [
    "RPS Rules:\n",
    "1. Scissors beats (/cuts) Paper \n",
    "2. Paper beats (/wraps) Rock \n",
    "3. Rock beats (/blunts) Scissors \n",
    "\n",
    "Winning Rules of the Rock, Paper and Scissor game as follows:\n",
    "Rock vs Paper -> Paper wins \n",
    "Rock vs Scissors -> Rock wins \n",
    "Paper vs Scissors -> Scissors wins "
   ]
  },
  {
   "cell_type": "code",
   "execution_count": 2,
   "metadata": {},
   "outputs": [],
   "source": [
    "from random import randint"
   ]
  },
  {
   "cell_type": "code",
   "execution_count": 3,
   "metadata": {},
   "outputs": [
    {
     "name": "stdout",
     "output_type": "stream",
     "text": [
      "['Rock', 'Paper', 'Scissors']\n"
     ]
    }
   ],
   "source": [
    "# create a list of play options\n",
    "pick = ['Rock', 'Paper', 'Scissors']\n",
    "print(pick)"
   ]
  },
  {
   "cell_type": "code",
   "execution_count": 4,
   "metadata": {},
   "outputs": [
    {
     "name": "stdout",
     "output_type": "stream",
     "text": [
      "Human vs Computer: RPC Game\n",
      "Rock, Paper, Scissors? \n",
      "Scissors\n",
      "Computer selected: Paper\n",
      "Human WON!!\n",
      "Do you want to play more?: Enter Y or N \n",
      "N\n"
     ]
    }
   ],
   "source": [
    "print('Human vs Computer: RPC Game')\n",
    "\n",
    "# set player to false\n",
    "Human = False\n",
    "\n",
    "while Human == False:\n",
    "    Human = input('Rock, Paper, Scissors? \\n')\n",
    "    computer = pick[randint(0,2)]\n",
    "    print('Computer selected: {}'.format(computer))\n",
    "    \n",
    "    # case 1\n",
    "    if Human == computer:\n",
    "        print('Tie!!')\n",
    "    \n",
    "    # case 2\n",
    "    elif Human == 'Rock':\n",
    "        if computer == 'Paper':\n",
    "            print('Computer WON!!')\n",
    "        else:\n",
    "            print('Human WON!!')\n",
    "    \n",
    "    elif Human == 'Paper':\n",
    "        if computer == 'Rock':\n",
    "            print('Human WON!!')\n",
    "        else:\n",
    "            print('Computer WON!!')\n",
    "            \n",
    "    elif Human == 'Scissors':\n",
    "        if computer == 'Rock':\n",
    "            print('Computer WON!!')\n",
    "        else:\n",
    "            print('Human WON!!')\n",
    "\n",
    "    else:\n",
    "        print('Invalid option!! Please select correct option')\n",
    "    \n",
    "    response = input('Do you want to play more?: Enter Y or N \\n')\n",
    "    if response == 'Y':\n",
    "        Human = False # reset the player value to False to restart the while loop\n",
    "        computer = pick[randint(0,2)]\n",
    "    else:\n",
    "        pass \n",
    "    "
   ]
  },
  {
   "cell_type": "code",
   "execution_count": null,
   "metadata": {},
   "outputs": [],
   "source": []
  }
 ],
 "metadata": {
  "kernelspec": {
   "display_name": "Python 3",
   "language": "python",
   "name": "python3"
  },
  "language_info": {
   "codemirror_mode": {
    "name": "ipython",
    "version": 3
   },
   "file_extension": ".py",
   "mimetype": "text/x-python",
   "name": "python",
   "nbconvert_exporter": "python",
   "pygments_lexer": "ipython3",
   "version": "3.7.6"
  }
 },
 "nbformat": 4,
 "nbformat_minor": 4
}
