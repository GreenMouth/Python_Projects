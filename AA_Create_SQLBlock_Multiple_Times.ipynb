{
 "cells": [
  {
   "cell_type": "code",
   "execution_count": 77,
   "metadata": {},
   "outputs": [],
   "source": [
    "#Import libraries\n",
    "import pandas as pd\n",
    "from pandas import ExcelWriter\n",
    "from pandas import ExcelFile\n",
    "import numpy as np\n",
    "#conda install PyPDF2: Read pdf"
   ]
  },
  {
   "cell_type": "code",
   "execution_count": 100,
   "metadata": {},
   "outputs": [],
   "source": [
    "#Create a df or Import as below\n",
    "#df = pd.DataFrame([['Neustar_A', 'A,B,C,D,E'], \n",
    "#                   ['Neustar_B', 'F,G'], \n",
    "#                   ['Neustar_C', 'H,I,J'], \n",
    "#                   ['Neustar_D', 'K,L,M']], \n",
    "#                  columns=['Table_Name', 'Columns_Names'])\n",
    "#df.head()"
   ]
  },
  {
   "cell_type": "code",
   "execution_count": 109,
   "metadata": {},
   "outputs": [
    {
     "data": {
      "text/html": [
       "<div>\n",
       "<style scoped>\n",
       "    .dataframe tbody tr th:only-of-type {\n",
       "        vertical-align: middle;\n",
       "    }\n",
       "\n",
       "    .dataframe tbody tr th {\n",
       "        vertical-align: top;\n",
       "    }\n",
       "\n",
       "    .dataframe thead th {\n",
       "        text-align: right;\n",
       "    }\n",
       "</style>\n",
       "<table border=\"1\" class=\"dataframe\">\n",
       "  <thead>\n",
       "    <tr style=\"text-align: right;\">\n",
       "      <th></th>\n",
       "      <th>Table_Name</th>\n",
       "      <th>Column _Names</th>\n",
       "    </tr>\n",
       "  </thead>\n",
       "  <tbody>\n",
       "    <tr>\n",
       "      <th>0</th>\n",
       "      <td>Neustar_A</td>\n",
       "      <td>A,B,C,D,E</td>\n",
       "    </tr>\n",
       "    <tr>\n",
       "      <th>1</th>\n",
       "      <td>Neustar_B</td>\n",
       "      <td>F,G</td>\n",
       "    </tr>\n",
       "    <tr>\n",
       "      <th>2</th>\n",
       "      <td>Neustar_C</td>\n",
       "      <td>H,I,J</td>\n",
       "    </tr>\n",
       "    <tr>\n",
       "      <th>3</th>\n",
       "      <td>Neustar_D</td>\n",
       "      <td>K,L,M</td>\n",
       "    </tr>\n",
       "  </tbody>\n",
       "</table>\n",
       "</div>"
      ],
      "text/plain": [
       "  Table_Name Column _Names\n",
       "0  Neustar_A     A,B,C,D,E\n",
       "1  Neustar_B           F,G\n",
       "2  Neustar_C         H,I,J\n",
       "3  Neustar_D         K,L,M"
      ]
     },
     "execution_count": 109,
     "metadata": {},
     "output_type": "execute_result"
    }
   ],
   "source": [
    "#Read Excel Data\n",
    "df = pd.read_excel('/Users/shinde/Desktop/Neustar_Table_Names.xlsx', \n",
    "                   sheetname = 'Table_Names')\n",
    "df.head()"
   ]
  },
  {
   "cell_type": "code",
   "execution_count": 110,
   "metadata": {},
   "outputs": [
    {
     "data": {
      "text/plain": [
       "(4, 2)"
      ]
     },
     "execution_count": 110,
     "metadata": {},
     "output_type": "execute_result"
    }
   ],
   "source": [
    "df.shape"
   ]
  },
  {
   "cell_type": "code",
   "execution_count": 111,
   "metadata": {},
   "outputs": [
    {
     "data": {
      "text/html": [
       "<div>\n",
       "<style scoped>\n",
       "    .dataframe tbody tr th:only-of-type {\n",
       "        vertical-align: middle;\n",
       "    }\n",
       "\n",
       "    .dataframe tbody tr th {\n",
       "        vertical-align: top;\n",
       "    }\n",
       "\n",
       "    .dataframe thead th {\n",
       "        text-align: right;\n",
       "    }\n",
       "</style>\n",
       "<table border=\"1\" class=\"dataframe\">\n",
       "  <thead>\n",
       "    <tr style=\"text-align: right;\">\n",
       "      <th></th>\n",
       "      <th>Table_Name</th>\n",
       "      <th>Column _Names</th>\n",
       "      <th>Redshift_Table_Name</th>\n",
       "    </tr>\n",
       "  </thead>\n",
       "  <tbody>\n",
       "    <tr>\n",
       "      <th>0</th>\n",
       "      <td>Neustar_A</td>\n",
       "      <td>A,B,C,D,E</td>\n",
       "      <td>Redshift_Neustar_A</td>\n",
       "    </tr>\n",
       "    <tr>\n",
       "      <th>1</th>\n",
       "      <td>Neustar_B</td>\n",
       "      <td>F,G</td>\n",
       "      <td>Redshift_Neustar_B</td>\n",
       "    </tr>\n",
       "    <tr>\n",
       "      <th>2</th>\n",
       "      <td>Neustar_C</td>\n",
       "      <td>H,I,J</td>\n",
       "      <td>Redshift_Neustar_C</td>\n",
       "    </tr>\n",
       "    <tr>\n",
       "      <th>3</th>\n",
       "      <td>Neustar_D</td>\n",
       "      <td>K,L,M</td>\n",
       "      <td>Redshift_Neustar_D</td>\n",
       "    </tr>\n",
       "  </tbody>\n",
       "</table>\n",
       "</div>"
      ],
      "text/plain": [
       "  Table_Name Column _Names Redshift_Table_Name\n",
       "0  Neustar_A     A,B,C,D,E  Redshift_Neustar_A\n",
       "1  Neustar_B           F,G  Redshift_Neustar_B\n",
       "2  Neustar_C         H,I,J  Redshift_Neustar_C\n",
       "3  Neustar_D         K,L,M  Redshift_Neustar_D"
      ]
     },
     "execution_count": 111,
     "metadata": {},
     "output_type": "execute_result"
    }
   ],
   "source": [
    "#Generate Table Names for Redshift Tables\n",
    "df['Redshift_Table_Name'] = 'Redshift_' + df['Table_Name'].astype(str)\n",
    "df.head()"
   ]
  },
  {
   "cell_type": "code",
   "execution_count": 113,
   "metadata": {},
   "outputs": [
    {
     "data": {
      "text/plain": [
       "Index(['Table_Name', 'Column _Names', 'Redshift_Table_Name'], dtype='object')"
      ]
     },
     "execution_count": 113,
     "metadata": {},
     "output_type": "execute_result"
    }
   ],
   "source": [
    "df.columns"
   ]
  },
  {
   "cell_type": "code",
   "execution_count": 114,
   "metadata": {},
   "outputs": [],
   "source": [
    "#Now create Multiple block of SQL\n",
    "#Create each table from above table name defined above\n",
    "\n",
    "def create_sql(row):\n",
    "    SQL = 'DROP TABLE IF EXISTS ' +  row['Redshift_Table_Name'] + ';' + ' Create Table' + ' ' + row['Redshift_Table_Name'] + ' '+ '(' + ' ' + row['Column _Names'] + ' ' + ');'\n",
    "    return SQL\n"
   ]
  },
  {
   "cell_type": "code",
   "execution_count": 115,
   "metadata": {},
   "outputs": [
    {
     "data": {
      "text/html": [
       "<div>\n",
       "<style scoped>\n",
       "    .dataframe tbody tr th:only-of-type {\n",
       "        vertical-align: middle;\n",
       "    }\n",
       "\n",
       "    .dataframe tbody tr th {\n",
       "        vertical-align: top;\n",
       "    }\n",
       "\n",
       "    .dataframe thead th {\n",
       "        text-align: right;\n",
       "    }\n",
       "</style>\n",
       "<table border=\"1\" class=\"dataframe\">\n",
       "  <thead>\n",
       "    <tr style=\"text-align: right;\">\n",
       "      <th></th>\n",
       "      <th>Table_Name</th>\n",
       "      <th>Column _Names</th>\n",
       "      <th>Redshift_Table_Name</th>\n",
       "      <th>SQL</th>\n",
       "    </tr>\n",
       "  </thead>\n",
       "  <tbody>\n",
       "    <tr>\n",
       "      <th>0</th>\n",
       "      <td>Neustar_A</td>\n",
       "      <td>A,B,C,D,E</td>\n",
       "      <td>Redshift_Neustar_A</td>\n",
       "      <td>DROP TABLE IF EXISTS Redshift_Neustar_A; Creat...</td>\n",
       "    </tr>\n",
       "    <tr>\n",
       "      <th>1</th>\n",
       "      <td>Neustar_B</td>\n",
       "      <td>F,G</td>\n",
       "      <td>Redshift_Neustar_B</td>\n",
       "      <td>DROP TABLE IF EXISTS Redshift_Neustar_B; Creat...</td>\n",
       "    </tr>\n",
       "    <tr>\n",
       "      <th>2</th>\n",
       "      <td>Neustar_C</td>\n",
       "      <td>H,I,J</td>\n",
       "      <td>Redshift_Neustar_C</td>\n",
       "      <td>DROP TABLE IF EXISTS Redshift_Neustar_C; Creat...</td>\n",
       "    </tr>\n",
       "    <tr>\n",
       "      <th>3</th>\n",
       "      <td>Neustar_D</td>\n",
       "      <td>K,L,M</td>\n",
       "      <td>Redshift_Neustar_D</td>\n",
       "      <td>DROP TABLE IF EXISTS Redshift_Neustar_D; Creat...</td>\n",
       "    </tr>\n",
       "  </tbody>\n",
       "</table>\n",
       "</div>"
      ],
      "text/plain": [
       "  Table_Name Column _Names Redshift_Table_Name  \\\n",
       "0  Neustar_A     A,B,C,D,E  Redshift_Neustar_A   \n",
       "1  Neustar_B           F,G  Redshift_Neustar_B   \n",
       "2  Neustar_C         H,I,J  Redshift_Neustar_C   \n",
       "3  Neustar_D         K,L,M  Redshift_Neustar_D   \n",
       "\n",
       "                                                 SQL  \n",
       "0  DROP TABLE IF EXISTS Redshift_Neustar_A; Creat...  \n",
       "1  DROP TABLE IF EXISTS Redshift_Neustar_B; Creat...  \n",
       "2  DROP TABLE IF EXISTS Redshift_Neustar_C; Creat...  \n",
       "3  DROP TABLE IF EXISTS Redshift_Neustar_D; Creat...  "
      ]
     },
     "execution_count": 115,
     "metadata": {},
     "output_type": "execute_result"
    }
   ],
   "source": [
    "#Apply function\n",
    "df['SQL'] = df.apply(create_sql, axis = 1)\n",
    "df.head()"
   ]
  },
  {
   "cell_type": "code",
   "execution_count": 116,
   "metadata": {},
   "outputs": [
    {
     "data": {
      "text/plain": [
       "'DROP TABLE IF EXISTS Redshift_Neustar_A; Create Table Redshift_Neustar_A ( A,B,C,D,E );'"
      ]
     },
     "execution_count": 116,
     "metadata": {},
     "output_type": "execute_result"
    }
   ],
   "source": [
    "df['SQL'][0]"
   ]
  },
  {
   "cell_type": "code",
   "execution_count": 118,
   "metadata": {},
   "outputs": [],
   "source": [
    "#save data into text file\n",
    "np.savetxt(r'/Users/shinde/Desktop/GeneratedRedshiftSQL.txt', df['SQL'].values, fmt='%s')\n"
   ]
  },
  {
   "cell_type": "code",
   "execution_count": null,
   "metadata": {},
   "outputs": [],
   "source": []
  }
 ],
 "metadata": {
  "kernelspec": {
   "display_name": "Python 3",
   "language": "python",
   "name": "python3"
  },
  "language_info": {
   "codemirror_mode": {
    "name": "ipython",
    "version": 3
   },
   "file_extension": ".py",
   "mimetype": "text/x-python",
   "name": "python",
   "nbconvert_exporter": "python",
   "pygments_lexer": "ipython3",
   "version": "3.7.3"
  }
 },
 "nbformat": 4,
 "nbformat_minor": 2
}
