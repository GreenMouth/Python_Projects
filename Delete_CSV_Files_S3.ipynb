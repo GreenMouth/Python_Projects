{
 "cells": [
  {
   "cell_type": "code",
   "execution_count": 12,
   "metadata": {},
   "outputs": [],
   "source": [
    "#Author: Prashant Shinde\n",
    "\n",
    "#Goal: Delete all CSV files from a specific 'folder' inside a specific 'AWS S3 bucket'\n",
    "\n",
    "#Boto3 Documentation: https://boto3.amazonaws.com/v1/documentation/api/latest/index.html"
   ]
  },
  {
   "cell_type": "code",
   "execution_count": null,
   "metadata": {},
   "outputs": [],
   "source": [
    "import boto3\n",
    "\n",
    "_BUCKET_NAME = 'S3_bucket_name'\n",
    "_PREFIX = 'folder_name/'\n",
    "\n",
    "#define a boto3 client object\n",
    "client = boto3.client('s3', \n",
    "                      aws_access_key_id= 'aws_access_key',\n",
    "                      aws_secret_access_key= 'aws_secret_key')\n",
    "\n",
    "#Step 1: find all files within a folder\n",
    "def ListFiles(client):\n",
    "    response = client.list_objects(Bucket=_BUCKET_NAME, Prefix=_PREFIX)\n",
    "    for content in response.get('Contents', []):\n",
    "        yield content.get('Key')\n",
    "\n",
    "#Step 2: Delete CSV files found in step 1\n",
    "file_list = ListFiles(client)\n",
    "for file in file_list:\n",
    "    if file.endswith(\".csv\"):\n",
    "        print('CSV file name is:', file)\n",
    "        client.delete_object(Bucket=_BUCKET_NAME, Key= file)\n",
    "    \n"
   ]
  },
  {
   "cell_type": "code",
   "execution_count": null,
   "metadata": {},
   "outputs": [],
   "source": []
  }
 ],
 "metadata": {
  "kernelspec": {
   "display_name": "Python 3",
   "language": "python",
   "name": "python3"
  },
  "language_info": {
   "codemirror_mode": {
    "name": "ipython",
    "version": 3
   },
   "file_extension": ".py",
   "mimetype": "text/x-python",
   "name": "python",
   "nbconvert_exporter": "python",
   "pygments_lexer": "ipython3",
   "version": "3.7.3"
  }
 },
 "nbformat": 4,
 "nbformat_minor": 2
}
